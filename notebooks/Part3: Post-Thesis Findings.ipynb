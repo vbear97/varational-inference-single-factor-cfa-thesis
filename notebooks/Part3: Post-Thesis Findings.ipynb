{
 "cells": [
  {
   "cell_type": "markdown",
   "id": "74d14f67",
   "metadata": {},
   "source": [
    "# Part 3: Post-Thesis Findings\n",
    "\n",
    "This notebook builds on my thesis results and presents additional data visualisations with the aid of high performance/parallelised computing."
   ]
  }
 ],
 "metadata": {
  "language_info": {
   "name": "python"
  }
 },
 "nbformat": 4,
 "nbformat_minor": 5
}
