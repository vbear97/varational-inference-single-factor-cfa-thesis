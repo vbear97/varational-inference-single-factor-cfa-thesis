{
 "cells": [
  {
   "cell_type": "markdown",
   "id": "d08fa6dd",
   "metadata": {},
   "source": [
    "# Getting Started: Foundational Concepts\n",
    "\n",
    "This notebook covers foundational concepts required to understand black box variational inference: \n",
    "\n",
    "* Gradient calculations in Pytorch \n",
    "    - When to switch gradient calculations \"on\" or \"off\"\n",
    "* Reparameterisation "
   ]
  },
  {
   "cell_type": "code",
   "execution_count": null,
   "id": "0bb497ae",
   "metadata": {},
   "outputs": [],
   "source": []
  }
 ],
 "metadata": {
  "kernelspec": {
   "display_name": "single-cfa-venv-3.10",
   "language": "python",
   "name": "python3"
  },
  "language_info": {
   "name": "python",
   "version": "3.10.2"
  }
 },
 "nbformat": 4,
 "nbformat_minor": 5
}
