{
 "cells": [
  {
   "cell_type": "markdown",
   "id": "8e9dd0a9",
   "metadata": {},
   "source": [
    "# Appendix: Testing VI Implementation \n",
    "\n",
    "This notebook walks through how to sanity check our VI implementation through statistical simulations and problem simplifications. \n",
    "\n",
    "Future work should focus on translating these into automated unit tests."
   ]
  },
  {
   "cell_type": "code",
   "execution_count": 2,
   "id": "f2339a62",
   "metadata": {},
   "outputs": [
    {
     "name": "stderr",
     "output_type": "stream",
     "text": [
      "/Users/vivbear/Documents/data_science_and_ai/variational-inference-single-factor-cfa-thesis/single-cfa-venv-3.10/lib/python3.10/site-packages/rpy2/rinterface/__init__.py:1211: UserWarning: Environment variable \"PWD\" redefined by R and overriding existing variable. Current: \"/\", R: \"/Users/vivbear/Documents/data_science_and_ai/variational-inference-single-factor-cfa-thesis/notebooks\"\n",
      "  warnings.warn(\n",
      "/Users/vivbear/Documents/data_science_and_ai/variational-inference-single-factor-cfa-thesis/single-cfa-venv-3.10/lib/python3.10/site-packages/rpy2/rinterface/__init__.py:1211: UserWarning: Environment variable \"R_SESSION_TMPDIR\" redefined by R and overriding existing variable. Current: \"/var/folders/rw/17130_512vz5y5_7d1l60_dh0000gn/T//Rtmpxfehae\", R: \"/var/folders/rw/17130_512vz5y5_7d1l60_dh0000gn/T//RtmpbVuGb2\"\n",
      "  warnings.warn(\n",
      "/Users/vivbear/Documents/data_science_and_ai/variational-inference-single-factor-cfa-thesis/single-cfa-venv-3.10/lib/python3.10/site-packages/pystan/lookup.py:10: UserWarning: pkg_resources is deprecated as an API. See https://setuptools.pypa.io/en/latest/pkg_resources.html. The pkg_resources package is slated for removal as early as 2025-11-30. Refrain from using this package or pin to Setuptools<81.\n",
      "  import pkg_resources\n",
      "INFO:arviz.preview:arviz_base not installed\n",
      "INFO:arviz.preview:arviz_stats not installed\n",
      "INFO:arviz.preview:arviz_plots not installed\n"
     ]
    }
   ],
   "source": [
    "# Imports \n",
    "%load_ext autoreload\n",
    "%autoreload 2\n",
    "\n",
    "import torch\n",
    "\n",
    "import sys \n",
    "sys.path.append('..')\n",
    "from src.statistical_model import SingleFactorCFA\n",
    "from src.variational_family import SingleCFAVariationalFamily\n",
    "from src.variational_sem import VIOptimisationParameters, SingleCFAVIModel\n",
    "from src.analytical_variational_inference.analytical_variational_infernce import single_factor_cfa_mfvb\n",
    "from src.analysis.sampling import create_sample_from_qvar, SingleCFAVariationalParameters\n",
    "from src.mcmc.mcmc import single_factor_cfa_mcmc\n",
    "from torch.distributions import MultivariateNormal as mvn\n"
   ]
  },
  {
   "cell_type": "code",
   "execution_count": 3,
   "id": "c08d9c3b",
   "metadata": {},
   "outputs": [
    {
     "data": {
      "text/plain": [
       "<torch._C.Generator at 0x1089408d0>"
      ]
     },
     "execution_count": 3,
     "metadata": {},
     "output_type": "execute_result"
    }
   ],
   "source": [
    "# Set seed for reproducibility \n",
    "torch.manual_seed(42)"
   ]
  },
  {
   "cell_type": "code",
   "execution_count": 4,
   "id": "5ff99c9e",
   "metadata": {},
   "outputs": [],
   "source": [
    "# Simulated Data\n",
    "\n",
    "N = 300 \n",
    "M = 3 \n",
    "nu = torch.tensor([5.0, 6.0, 2.25])\n",
    "sig2 = torch.tensor([0.565])\n",
    "lam = torch.tensor([0.75, 1.05])\n",
    "psi = torch.tensor([0.8, 1.10, 0.66])\n",
    "\n",
    "#Generate Latent Parameter Values \n",
    "eta = torch.randn(N)*torch.sqrt(sig2)\n",
    "\n",
    "#Concatenate lambda values \n",
    "lam1_fixed = torch.tensor([1.0])\n",
    "lam_full = torch.cat((lam1_fixed, lam))\n",
    "\n",
    "#Generate y values based on User Input\n",
    "# yi ~ id Normal(nu + eta_i * lam, diag(psi)), yi /in R^m\n",
    "#cov:\n",
    "like_dist_cov = torch.diag(psi) #m*m tensor \n",
    "#means: want a n*m vector of means\n",
    "like_dist_means = torch.matmul(eta.unsqueeze(1), lam_full.unsqueeze(0)) + nu\n",
    "\n",
    "y_data_sim = mvn(like_dist_means, covariance_matrix= like_dist_cov).rsample() "
   ]
  },
  {
   "cell_type": "code",
   "execution_count": 5,
   "id": "9efd8115",
   "metadata": {},
   "outputs": [],
   "source": [
    "#Hyper-parameter values\n",
    "\n",
    "#sig_2 ~ InvGamma\n",
    "sig2_shape = torch.tensor([0.5])  \n",
    "sig2_rate = torch.tensor([0.5])  \n",
    "\n",
    "#psi ~ iid Inv Gamma for j = 1..m \n",
    "psi_shape = torch.tensor([0.5])  \n",
    "psi_rate = torch.tensor([0.005])  \n",
    "\n",
    "#nu ~ iid Normal for j = 1...m\n",
    "nu_sig2 = torch.tensor([100.0])  \n",
    "nu_mean = torch.tensor([0.0])\n",
    "\n",
    "#lam_j | psi_j ~ id Normal(mu, sig2*psi_j)\n",
    "lam_mean = torch.tensor([0.0])\n",
    "lam_sig2 = torch.tensor([1.0])\n",
    "\n",
    "hyper_params = {\"sig2_shape\": sig2_shape, \"sig2_rate\": sig2_rate, \"psi_shape\": psi_shape, \"psi_rate\": psi_rate, \"nu_sig2\": nu_sig2, \"nu_mean\": nu_mean, \"lam_mean\": lam_mean, \"lam_sig2\": lam_sig2}"
   ]
  },
  {
   "cell_type": "markdown",
   "id": "bdad80f2",
   "metadata": {},
   "source": [
    "# Part 1 - Single Component Tests"
   ]
  },
  {
   "cell_type": "code",
   "execution_count": 6,
   "id": "2273e056",
   "metadata": {},
   "outputs": [],
   "source": [
    "VI_OPTIMISATION_PARAMETERS = VIOptimisationParameters(num_iterations = 20_000, relative_error_threshold= 10-4, patience = 100)"
   ]
  },
  {
   "cell_type": "markdown",
   "id": "ab9f71c6",
   "metadata": {},
   "source": [
    "## Estimate all variables"
   ]
  },
  {
   "cell_type": "code",
   "execution_count": 7,
   "id": "c69e3b5b",
   "metadata": {},
   "outputs": [],
   "source": [
    "degenerates = {}\n",
    "model = SingleCFAVIModel(y_data = y_data_sim, hyper_params= hyper_params, degenerates = degenerates)"
   ]
  },
  {
   "cell_type": "code",
   "execution_count": null,
   "id": "4773e2b9",
   "metadata": {},
   "outputs": [
    {
     "name": "stderr",
     "output_type": "stream",
     "text": [
      "  1%|          | 140/20000 [00:05<12:40, 26.11it/s]"
     ]
    },
    {
     "name": "stdout",
     "output_type": "stream",
     "text": [
      "VI converged at step t =  140\n"
     ]
    },
    {
     "name": "stderr",
     "output_type": "stream",
     "text": [
      "\n"
     ]
    }
   ],
   "source": [
    "model.optimize(optimisation_parameters= VI_OPTIMISATION_PARAMETERS, filename = 'tensorboard_runs/simulated_VIModel_test', K = 10, alpha =1)"
   ]
  },
  {
   "cell_type": "code",
   "execution_count": 10,
   "id": "69294b56",
   "metadata": {},
   "outputs": [
    {
     "data": {
      "text/plain": [
       "Reusing TensorBoard on port 6006 (pid 63399), started 0:00:06 ago. (Use '!kill 63399' to kill it.)"
      ]
     },
     "metadata": {},
     "output_type": "display_data"
    },
    {
     "data": {
      "text/html": [
       "\n",
       "      <iframe id=\"tensorboard-frame-ad771e1dd05cff35\" width=\"100%\" height=\"800\" frameborder=\"0\">\n",
       "      </iframe>\n",
       "      <script>\n",
       "        (function() {\n",
       "          const frame = document.getElementById(\"tensorboard-frame-ad771e1dd05cff35\");\n",
       "          const url = new URL(\"http://localhost\");\n",
       "          const port = 6006;\n",
       "          if (port) {\n",
       "            url.port = port;\n",
       "          }\n",
       "          frame.src = url;\n",
       "        })();\n",
       "      </script>\n",
       "    "
      ],
      "text/plain": [
       "<IPython.core.display.HTML object>"
      ]
     },
     "metadata": {},
     "output_type": "display_data"
    }
   ],
   "source": [
    "%reload_ext tensorboard\n",
    "%tensorboard --logdir tensorboard_runs/simulated_VIModel_test_K_10_alpha1/"
   ]
  },
  {
   "cell_type": "markdown",
   "id": "f56ec859",
   "metadata": {},
   "source": [
    "## Estimate all parameters "
   ]
  },
  {
   "cell_type": "code",
   "execution_count": null,
   "id": "611b1538",
   "metadata": {},
   "outputs": [],
   "source": []
  }
 ],
 "metadata": {
  "kernelspec": {
   "display_name": "single-cfa-venv-3.10",
   "language": "python",
   "name": "python3"
  },
  "language_info": {
   "codemirror_mode": {
    "name": "ipython",
    "version": 3
   },
   "file_extension": ".py",
   "mimetype": "text/x-python",
   "name": "python",
   "nbconvert_exporter": "python",
   "pygments_lexer": "ipython3",
   "version": "3.10.2"
  }
 },
 "nbformat": 4,
 "nbformat_minor": 5
}
