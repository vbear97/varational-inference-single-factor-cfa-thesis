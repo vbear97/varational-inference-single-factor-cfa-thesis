{
 "cells": [
  {
   "cell_type": "markdown",
   "id": "07dbdbc2",
   "metadata": {},
   "source": [
    "# Part 2: Renyi Divergence Black Box VI \n",
    "\n",
    "This notebook is the second of a 2 part series that aims to walk the reader through my thesis results. \n",
    "\n",
    "In the last notebook, we implemented black box KLVI and applied this method to a single CFA model. In doing so we reproduced the problem of variance underestimation that was documented by KD Dang, who implemented analytical KLVI and applied that method to the same single CFA model.\n",
    "\n",
    "In this notebook, we generalise black box KLVI so that variational inference is performed using a generalisation of the KL Divergence, called the Renyi divergence. "
   ]
  },
  {
   "cell_type": "code",
   "execution_count": null,
   "id": "c4a15401",
   "metadata": {
    "vscode": {
     "languageId": "plaintext"
    }
   },
   "outputs": [],
   "source": []
  }
 ],
 "metadata": {
  "kernelspec": {
   "display_name": "variational-inference-single-factor-cfa-venv",
   "language": "python",
   "name": "python3"
  },
  "language_info": {
   "name": "python",
   "version": "3.13.3"
  }
 },
 "nbformat": 4,
 "nbformat_minor": 5
}
