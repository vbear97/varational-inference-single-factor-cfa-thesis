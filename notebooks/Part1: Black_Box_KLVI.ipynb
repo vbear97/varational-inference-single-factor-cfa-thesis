{
 "cells": [
  {
   "cell_type": "markdown",
   "id": "2c06dde1",
   "metadata": {},
   "source": [
    "# Part 1: Black Box KLVI \n",
    "\n",
    "This notebook is the first of a three part series, which walks through the key results of my variational inference thesis. The intention is to allow the user to walk through my thesis results, step by step.\n",
    "\n",
    "**Thesis Problem: Use Alternative Divergence Measures to solve Variance Underestimation for a single factor Confirmatory Factor Analysis Model** \n",
    "\n",
    "My thesis  investigates whether we can use a generalised divergence measure to perform black box variational inference to solve the problem of variance underestimation. \n",
    "\n",
    "The problem of variance underestimation is when the estimated posteriors underestimate the true posterior variance. It occurs whenever we use the typical divergence measure (KL Divergence), in both analytical **and** black-box implementations of VI.\n",
    "\n",
    "**Notebook Purpose**\n",
    "\n",
    "This notebook focuses on applying black box KL Variational Inference (KLVI) to the single factor confirmatory factor analysis model (CFA model), using the classic Holzinger Swineford (1939) dataset.\n",
    "\n",
    "The notebook has two outcomes:\n",
    "\n",
    "* **I demonstrate that black box KLVI can be applied to the single CFA model.** \n",
    "    * Effort is made to demonstrate how to tune optimisation parameters.\n",
    "\n",
    "* **I replicate the finding of variance underestimation via black box KLVI** \n",
    "    * We replicate the results of KD Dang, who applied KLVI to the single CFA model via analytical methods rather than black box methods. Dang found that analytical KLVI estimates posterior means accurately but underestimates true posterior variances. We find the same results hold for black box KLVI."
   ]
  },
  {
   "cell_type": "markdown",
   "id": "78565b51",
   "metadata": {
    "vscode": {
     "languageId": "plaintext"
    }
   },
   "source": [
    "# Imports "
   ]
  },
  {
   "cell_type": "code",
   "execution_count": 1,
   "id": "be732717",
   "metadata": {},
   "outputs": [],
   "source": [
    "%load_ext autoreload\n",
    "%autoreload 2\n",
    "%load_ext tensorboard"
   ]
  },
  {
   "cell_type": "code",
   "execution_count": 2,
   "id": "d6fc5792",
   "metadata": {},
   "outputs": [],
   "source": [
    "from semopy.examples import holzinger39\n",
    "import torch\n",
    "import pickle"
   ]
  },
  {
   "cell_type": "code",
   "execution_count": 14,
   "id": "3cc4c30d",
   "metadata": {},
   "outputs": [],
   "source": [
    "import sys \n",
    "sys.path.append('..')\n",
    "from src.statistical_model import SingleFactorCFA\n",
    "from src.variational_family import SingleCFAVariationalFamily\n",
    "from src.variational_sem import SemVIModel, VIOptimisationParameters\n",
    "from src.analytical_variational_inference.analytical_variational_infernce import single_factor_cfa_mfvb\n",
    "from src.analysis.sampling import create_sample_from_qvar, SingleCFAVariationalParameters\n",
    "from src.mcmc.mcmc import single_factor_cfa_mcmc\n",
    "from torch.distributions import MultivariateNormal as mvn"
   ]
  },
  {
   "cell_type": "markdown",
   "id": "c3bb2bde",
   "metadata": {
    "vscode": {
     "languageId": "plaintext"
    }
   },
   "source": [
    "# Introduction"
   ]
  },
  {
   "cell_type": "markdown",
   "id": "4505f7ec",
   "metadata": {},
   "source": [
    "# Single Factor CFA - Model Definition"
   ]
  },
  {
   "cell_type": "markdown",
   "id": "0011413d",
   "metadata": {},
   "source": [
    "## Dataset\n",
    "\n",
    "We are interested in the first three test results from the Holzinger Swineford (1939) dataset, which is the test results from visual perception, cubes, and lozenges test results.\n",
    "\n",
    "* Extract dataset \n",
    "* Convert to Pytorch Tensor \n",
    "* De-mean "
   ]
  },
  {
   "cell_type": "code",
   "execution_count": 4,
   "id": "04ef71cf",
   "metadata": {},
   "outputs": [],
   "source": [
    "hdata = holzinger39.get_data()"
   ]
  },
  {
   "cell_type": "code",
   "execution_count": 8,
   "id": "d8d2dfb0",
   "metadata": {},
   "outputs": [
    {
     "data": {
      "text/html": [
       "<div>\n",
       "<style scoped>\n",
       "    .dataframe tbody tr th:only-of-type {\n",
       "        vertical-align: middle;\n",
       "    }\n",
       "\n",
       "    .dataframe tbody tr th {\n",
       "        vertical-align: top;\n",
       "    }\n",
       "\n",
       "    .dataframe thead th {\n",
       "        text-align: right;\n",
       "    }\n",
       "</style>\n",
       "<table border=\"1\" class=\"dataframe\">\n",
       "  <thead>\n",
       "    <tr style=\"text-align: right;\">\n",
       "      <th></th>\n",
       "      <th>id</th>\n",
       "      <th>sex</th>\n",
       "      <th>ageyr</th>\n",
       "      <th>agemo</th>\n",
       "      <th>school</th>\n",
       "      <th>grade</th>\n",
       "      <th>x1</th>\n",
       "      <th>x2</th>\n",
       "      <th>x3</th>\n",
       "      <th>x4</th>\n",
       "      <th>x5</th>\n",
       "      <th>x6</th>\n",
       "      <th>x7</th>\n",
       "      <th>x8</th>\n",
       "      <th>x9</th>\n",
       "    </tr>\n",
       "  </thead>\n",
       "  <tbody>\n",
       "    <tr>\n",
       "      <th>1</th>\n",
       "      <td>1</td>\n",
       "      <td>1</td>\n",
       "      <td>13</td>\n",
       "      <td>1</td>\n",
       "      <td>Pasteur</td>\n",
       "      <td>7.0</td>\n",
       "      <td>3.333333</td>\n",
       "      <td>7.75</td>\n",
       "      <td>0.375</td>\n",
       "      <td>2.333333</td>\n",
       "      <td>5.75</td>\n",
       "      <td>1.285714</td>\n",
       "      <td>3.391304</td>\n",
       "      <td>5.75</td>\n",
       "      <td>6.361111</td>\n",
       "    </tr>\n",
       "    <tr>\n",
       "      <th>2</th>\n",
       "      <td>2</td>\n",
       "      <td>2</td>\n",
       "      <td>13</td>\n",
       "      <td>7</td>\n",
       "      <td>Pasteur</td>\n",
       "      <td>7.0</td>\n",
       "      <td>5.333333</td>\n",
       "      <td>5.25</td>\n",
       "      <td>2.125</td>\n",
       "      <td>1.666667</td>\n",
       "      <td>3.00</td>\n",
       "      <td>1.285714</td>\n",
       "      <td>3.782609</td>\n",
       "      <td>6.25</td>\n",
       "      <td>7.916667</td>\n",
       "    </tr>\n",
       "    <tr>\n",
       "      <th>3</th>\n",
       "      <td>3</td>\n",
       "      <td>2</td>\n",
       "      <td>13</td>\n",
       "      <td>1</td>\n",
       "      <td>Pasteur</td>\n",
       "      <td>7.0</td>\n",
       "      <td>4.500000</td>\n",
       "      <td>5.25</td>\n",
       "      <td>1.875</td>\n",
       "      <td>1.000000</td>\n",
       "      <td>1.75</td>\n",
       "      <td>0.428571</td>\n",
       "      <td>3.260870</td>\n",
       "      <td>3.90</td>\n",
       "      <td>4.416667</td>\n",
       "    </tr>\n",
       "    <tr>\n",
       "      <th>4</th>\n",
       "      <td>4</td>\n",
       "      <td>1</td>\n",
       "      <td>13</td>\n",
       "      <td>2</td>\n",
       "      <td>Pasteur</td>\n",
       "      <td>7.0</td>\n",
       "      <td>5.333333</td>\n",
       "      <td>7.75</td>\n",
       "      <td>3.000</td>\n",
       "      <td>2.666667</td>\n",
       "      <td>4.50</td>\n",
       "      <td>2.428571</td>\n",
       "      <td>3.000000</td>\n",
       "      <td>5.30</td>\n",
       "      <td>4.861111</td>\n",
       "    </tr>\n",
       "    <tr>\n",
       "      <th>5</th>\n",
       "      <td>5</td>\n",
       "      <td>2</td>\n",
       "      <td>12</td>\n",
       "      <td>2</td>\n",
       "      <td>Pasteur</td>\n",
       "      <td>7.0</td>\n",
       "      <td>4.833333</td>\n",
       "      <td>4.75</td>\n",
       "      <td>0.875</td>\n",
       "      <td>2.666667</td>\n",
       "      <td>4.00</td>\n",
       "      <td>2.571429</td>\n",
       "      <td>3.695652</td>\n",
       "      <td>6.30</td>\n",
       "      <td>5.916667</td>\n",
       "    </tr>\n",
       "  </tbody>\n",
       "</table>\n",
       "</div>"
      ],
      "text/plain": [
       "   id  sex  ageyr  agemo   school  grade        x1    x2     x3        x4  \\\n",
       "1   1    1     13      1  Pasteur    7.0  3.333333  7.75  0.375  2.333333   \n",
       "2   2    2     13      7  Pasteur    7.0  5.333333  5.25  2.125  1.666667   \n",
       "3   3    2     13      1  Pasteur    7.0  4.500000  5.25  1.875  1.000000   \n",
       "4   4    1     13      2  Pasteur    7.0  5.333333  7.75  3.000  2.666667   \n",
       "5   5    2     12      2  Pasteur    7.0  4.833333  4.75  0.875  2.666667   \n",
       "\n",
       "     x5        x6        x7    x8        x9  \n",
       "1  5.75  1.285714  3.391304  5.75  6.361111  \n",
       "2  3.00  1.285714  3.782609  6.25  7.916667  \n",
       "3  1.75  0.428571  3.260870  3.90  4.416667  \n",
       "4  4.50  2.428571  3.000000  5.30  4.861111  \n",
       "5  4.00  2.571429  3.695652  6.30  5.916667  "
      ]
     },
     "execution_count": 8,
     "metadata": {},
     "output_type": "execute_result"
    }
   ],
   "source": [
    "hdata.head()"
   ]
  },
  {
   "cell_type": "code",
   "execution_count": 5,
   "id": "504978fa",
   "metadata": {},
   "outputs": [],
   "source": [
    "y_data = hdata[['x1', 'x2', 'x3']]"
   ]
  },
  {
   "cell_type": "markdown",
   "id": "dc8260ba",
   "metadata": {},
   "source": [
    "Since we are utilising pytorch to perform black box variational inference, we will deal exclusively with Pytorch tensors."
   ]
  },
  {
   "cell_type": "code",
   "execution_count": 10,
   "id": "899149ea",
   "metadata": {},
   "outputs": [],
   "source": [
    "#No gradients needed on y_data\n",
    "y_data = torch.tensor(y_data.values, requires_grad = False)"
   ]
  },
  {
   "cell_type": "markdown",
   "id": "fa46dc11",
   "metadata": {},
   "source": [
    "# Single Factor CFA Model  \n",
    "\n",
    "We use the same statistical model as that used by Dang and Maestrini, including the same dataset and prior hyperparameter values. "
   ]
  },
  {
   "cell_type": "markdown",
   "id": "1bc7dca6",
   "metadata": {},
   "source": [
    "## Prior Hyperparameters \n",
    "\n"
   ]
  },
  {
   "cell_type": "code",
   "execution_count": 6,
   "id": "46a2cfe1",
   "metadata": {},
   "outputs": [],
   "source": [
    "#Set Hyper-parameters \n",
    "#sig_2 ~ InvGamma\n",
    "sig2_shape = torch.tensor([0.5])  \n",
    "sig2_rate = torch.tensor([0.5])  \n",
    "\n",
    "#psi ~ iid Inv Gamma for j = 1..m \n",
    "psi_shape = torch.tensor([0.5])  \n",
    "psi_rate = torch.tensor([0.005])  \n",
    "\n",
    "#nu ~ iid Normal for j = 1...m\n",
    "nu_sig2 = torch.tensor([100.0])  \n",
    "nu_mean = torch.tensor([0.0])\n",
    "\n",
    "#lam_j | psi_j ~ id Normal(mu, sig2*psi_j)\n",
    "lam_mean = torch.tensor([0.0])\n",
    "lam_sig2 = torch.tensor([1.0])\n",
    "\n",
    "hyper_params = {\"sig2_shape\": sig2_shape, \"sig2_rate\": sig2_rate, \"psi_shape\": psi_shape, \"psi_rate\": psi_rate, \"nu_sig2\": nu_sig2, \"nu_mean\": nu_mean, \"lam_mean\": lam_mean, \"lam_sig2\": lam_sig2}\n"
   ]
  },
  {
   "cell_type": "code",
   "execution_count": 12,
   "id": "041da105",
   "metadata": {},
   "outputs": [],
   "source": [
    "single_cfa_model = SingleFactorCFA(y_data = y_data, hyper_params= hyper_params)"
   ]
  },
  {
   "cell_type": "markdown",
   "id": "97d2feef",
   "metadata": {},
   "source": [
    "## Mean Field Variational Family"
   ]
  },
  {
   "cell_type": "code",
   "execution_count": 13,
   "id": "8114196b",
   "metadata": {},
   "outputs": [],
   "source": [
    "single_cfa_qvar = SingleCFAVariationalFamily(m = y_data.shape[1], n = y_data.shape[0])"
   ]
  },
  {
   "cell_type": "markdown",
   "id": "cda4fc86",
   "metadata": {},
   "source": [
    "## VI Model"
   ]
  },
  {
   "cell_type": "code",
   "execution_count": 14,
   "id": "6f30cb6d",
   "metadata": {},
   "outputs": [],
   "source": [
    "vi_model = SemVIModel(single_cfa_model, single_cfa_qvar)"
   ]
  },
  {
   "cell_type": "markdown",
   "id": "73709dba",
   "metadata": {},
   "source": [
    "# Black Box KLVI"
   ]
  },
  {
   "cell_type": "code",
   "execution_count": 15,
   "id": "2e1dedf3",
   "metadata": {},
   "outputs": [],
   "source": [
    "VI_OPTIMISATION_PARAMETERS = VIOptimisationParameters(num_iterations = 100, relative_error_threshold= 10e-4, patience = 100)"
   ]
  },
  {
   "cell_type": "code",
   "execution_count": 70,
   "id": "42ae262d",
   "metadata": {},
   "outputs": [
    {
     "name": "stderr",
     "output_type": "stream",
     "text": [
      "100%|██████████| 100/100 [00:45<00:00,  2.18it/s]\n"
     ]
    }
   ],
   "source": [
    "vi_model.optimize(K = 100, alpha = 1, optimisation_parameters= VI_OPTIMISATION_PARAMETERS, filename = 'tensorboard_runs/OptimiseVIModel')"
   ]
  },
  {
   "cell_type": "markdown",
   "id": "21913b65",
   "metadata": {},
   "source": [
    "## Visualising Convergence"
   ]
  },
  {
   "cell_type": "code",
   "execution_count": 73,
   "id": "d536a886",
   "metadata": {},
   "outputs": [
    {
     "name": "stdout",
     "output_type": "stream",
     "text": [
      "The tensorboard extension is already loaded. To reload it, use:\n",
      "  %reload_ext tensorboard\n"
     ]
    },
    {
     "data": {
      "text/plain": [
       "Reusing TensorBoard on port 6006 (pid 12776), started 0:01:00 ago. (Use '!kill 12776' to kill it.)"
      ]
     },
     "metadata": {},
     "output_type": "display_data"
    },
    {
     "data": {
      "text/html": [
       "\n",
       "      <iframe id=\"tensorboard-frame-430b0b04a8778c53\" width=\"100%\" height=\"800\" frameborder=\"0\">\n",
       "      </iframe>\n",
       "      <script>\n",
       "        (function() {\n",
       "          const frame = document.getElementById(\"tensorboard-frame-430b0b04a8778c53\");\n",
       "          const url = new URL(\"http://localhost\");\n",
       "          const port = 6006;\n",
       "          if (port) {\n",
       "            url.port = port;\n",
       "          }\n",
       "          frame.src = url;\n",
       "        })();\n",
       "      </script>\n",
       "    "
      ],
      "text/plain": [
       "<IPython.core.display.HTML object>"
      ]
     },
     "metadata": {},
     "output_type": "display_data"
    }
   ],
   "source": [
    "%load_ext tensorboard\n",
    "%tensorboard --logdir tensorboard_runs/OptimiseVIModel_K_100_alpha1/"
   ]
  },
  {
   "cell_type": "markdown",
   "id": "cfaa3d8d",
   "metadata": {},
   "source": [
    "## Results Comparison to Variational Bayes (Mean Field) and MCMC "
   ]
  },
  {
   "cell_type": "code",
   "execution_count": null,
   "id": "74dcd176",
   "metadata": {},
   "outputs": [],
   "source": [
    "#TODO: Get MCMC code running\n",
    "#mcmc_sample = single_factor_cfa_mcmc(y_data, hyperparams)\n",
    "\n",
    "#Step 1: Load in Pickled MCMC Data  \n",
    "#Step 2: Implement MFVB code (DONE)\n",
    "#Step 3: Visualise results \n",
    "#Load in Pickled KLVI dataframe K = 1, K = 10, K = 100 \n",
    "#Resurrect visualisations - 95% credible interval and mean "
   ]
  },
  {
   "cell_type": "markdown",
   "id": "0e56d4f7",
   "metadata": {},
   "source": [
    "## MCMC"
   ]
  },
  {
   "cell_type": "markdown",
   "id": "2b8a226f",
   "metadata": {},
   "source": [
    "## Mean Field Variational Bayes "
   ]
  },
  {
   "cell_type": "code",
   "execution_count": 22,
   "id": "daf49cc3",
   "metadata": {},
   "outputs": [
    {
     "name": "stderr",
     "output_type": "stream",
     "text": [
      "WARNING:rpy2.rinterface_lib.callbacks:R callback write-console: This is lavaan 0.6-19\n",
      "lavaan is FREE software! Please report any bugs.\n",
      "  \n"
     ]
    },
    {
     "name": "stdout",
     "output_type": "stream",
     "text": [
      "Iteration number: 2 ; MFVB relative error: 255.02 \n",
      "Iteration number: 3 ; MFVB relative error: 230.4 \n",
      "Iteration number: 4 ; MFVB relative error: 144.34 \n",
      "Iteration number: 5 ; MFVB relative error: 12.525 \n",
      "Iteration number: 6 ; MFVB relative error: 25.803 \n",
      "Iteration number: 7 ; MFVB relative error: 3.013 \n",
      "Iteration number: 8 ; MFVB relative error: 6.5939 \n",
      "Iteration number: 9 ; MFVB relative error: 2.6136 \n",
      "Iteration number: 10 ; MFVB relative error: 30.616 \n",
      "Iteration number: 11 ; MFVB relative error: 2.1981 \n",
      "Iteration number: 12 ; MFVB relative error: 8.2253 \n",
      "Iteration number: 13 ; MFVB relative error: 1.9037 \n",
      "Iteration number: 14 ; MFVB relative error: 3.6124 \n",
      "Iteration number: 15 ; MFVB relative error: 0.72829 \n",
      "Iteration number: 16 ; MFVB relative error: 0.61567 \n",
      "Iteration number: 17 ; MFVB relative error: 1.4817 \n",
      "Iteration number: 18 ; MFVB relative error: 90.845 \n",
      "Iteration number: 19 ; MFVB relative error: 1.0416 \n",
      "Iteration number: 20 ; MFVB relative error: 22.978 \n",
      "Iteration number: 21 ; MFVB relative error: 0.88012 \n",
      "Iteration number: 22 ; MFVB relative error: 0.42998 \n",
      "Iteration number: 23 ; MFVB relative error: 0.53672 \n",
      "Iteration number: 24 ; MFVB relative error: 1.0745 \n",
      "Iteration number: 25 ; MFVB relative error: 13.384 \n",
      "Iteration number: 26 ; MFVB relative error: 0.86406 \n",
      "Iteration number: 27 ; MFVB relative error: 2.1998 \n",
      "Iteration number: 28 ; MFVB relative error: 1.7125 \n",
      "Iteration number: 29 ; MFVB relative error: 2.6747 \n",
      "Iteration number: 30 ; MFVB relative error: 1.4746 \n",
      "Iteration number: 31 ; MFVB relative error: 0.55069 \n",
      "Iteration number: 32 ; MFVB relative error: 0.32848 \n",
      "Iteration number: 33 ; MFVB relative error: 0.22891 \n",
      "Iteration number: 34 ; MFVB relative error: 0.17259 \n",
      "Iteration number: 35 ; MFVB relative error: 0.13649 \n",
      "Iteration number: 36 ; MFVB relative error: 0.12483 \n",
      "Iteration number: 37 ; MFVB relative error: 0.13371 \n",
      "Iteration number: 38 ; MFVB relative error: 0.14474 \n",
      "Iteration number: 39 ; MFVB relative error: 0.15874 \n",
      "Iteration number: 40 ; MFVB relative error: 0.17705 \n",
      "Iteration number: 41 ; MFVB relative error: 0.20191 \n",
      "Iteration number: 42 ; MFVB relative error: 0.2375 \n",
      "Iteration number: 43 ; MFVB relative error: 0.29247 \n",
      "Iteration number: 44 ; MFVB relative error: 0.38823 \n",
      "Iteration number: 45 ; MFVB relative error: 0.59614 \n",
      "Iteration number: 46 ; MFVB relative error: 1.3869 \n",
      "Iteration number: 47 ; MFVB relative error: 5.2219 \n",
      "Iteration number: 48 ; MFVB relative error: 1.1592 \n",
      "Iteration number: 49 ; MFVB relative error: 0.50332 \n",
      "Iteration number: 50 ; MFVB relative error: 0.31398 \n",
      "Iteration number: 51 ; MFVB relative error: 0.22416 \n",
      "Iteration number: 52 ; MFVB relative error: 0.17182 \n",
      "Iteration number: 53 ; MFVB relative error: 0.13762 \n",
      "Iteration number: 54 ; MFVB relative error: 0.11357 \n",
      "Iteration number: 55 ; MFVB relative error: 0.095769 \n",
      "Iteration number: 56 ; MFVB relative error: 0.082089 \n",
      "Iteration number: 57 ; MFVB relative error: 0.071267 \n",
      "Iteration number: 58 ; MFVB relative error: 0.062509 \n",
      "Iteration number: 59 ; MFVB relative error: 0.055289 \n",
      "Iteration number: 60 ; MFVB relative error: 0.050893 \n",
      "Iteration number: 61 ; MFVB relative error: 0.050506 \n",
      "Iteration number: 62 ; MFVB relative error: 0.050105 \n",
      "Iteration number: 63 ; MFVB relative error: 0.049688 \n",
      "Iteration number: 64 ; MFVB relative error: 0.049255 \n",
      "Iteration number: 65 ; MFVB relative error: 0.048805 \n",
      "Iteration number: 66 ; MFVB relative error: 0.048339 \n",
      "Iteration number: 67 ; MFVB relative error: 0.047856 \n",
      "Iteration number: 68 ; MFVB relative error: 0.047355 \n",
      "Iteration number: 69 ; MFVB relative error: 0.046837 \n",
      "Iteration number: 70 ; MFVB relative error: 0.0463 \n",
      "Iteration number: 71 ; MFVB relative error: 0.045745 \n",
      "Iteration number: 72 ; MFVB relative error: 0.045172 \n",
      "Iteration number: 73 ; MFVB relative error: 0.04458 \n",
      "Iteration number: 74 ; MFVB relative error: 0.043971 \n",
      "Iteration number: 75 ; MFVB relative error: 0.043342 \n",
      "Iteration number: 76 ; MFVB relative error: 0.042696 \n",
      "Iteration number: 77 ; MFVB relative error: 0.042032 \n",
      "Iteration number: 78 ; MFVB relative error: 0.04135 \n",
      "Iteration number: 79 ; MFVB relative error: 0.040651 \n",
      "Iteration number: 80 ; MFVB relative error: 0.039936 \n",
      "Iteration number: 81 ; MFVB relative error: 0.039205 \n",
      "Iteration number: 82 ; MFVB relative error: 0.038458 \n",
      "Iteration number: 83 ; MFVB relative error: 0.037697 \n",
      "Iteration number: 84 ; MFVB relative error: 0.036922 \n",
      "Iteration number: 85 ; MFVB relative error: 0.036135 \n",
      "Iteration number: 86 ; MFVB relative error: 0.035335 \n",
      "Iteration number: 87 ; MFVB relative error: 0.034526 \n",
      "Iteration number: 88 ; MFVB relative error: 0.033707 \n",
      "Iteration number: 89 ; MFVB relative error: 0.032879 \n",
      "Iteration number: 90 ; MFVB relative error: 0.032045 \n",
      "Iteration number: 91 ; MFVB relative error: 0.031206 \n",
      "Iteration number: 92 ; MFVB relative error: 0.030362 \n",
      "Iteration number: 93 ; MFVB relative error: 0.029516 \n",
      "Iteration number: 94 ; MFVB relative error: 0.028669 \n",
      "Iteration number: 95 ; MFVB relative error: 0.027822 \n",
      "Iteration number: 96 ; MFVB relative error: 0.026976 \n",
      "Iteration number: 97 ; MFVB relative error: 0.026134 \n",
      "Iteration number: 98 ; MFVB relative error: 0.025296 \n",
      "Iteration number: 99 ; MFVB relative error: 0.024464 \n",
      "Iteration number: 100 ; MFVB relative error: 0.02364 \n",
      "Iteration number: 101 ; MFVB relative error: 0.022824 \n",
      "Iteration number: 102 ; MFVB relative error: 0.022018 \n",
      "Iteration number: 103 ; MFVB relative error: 0.021223 \n",
      "Iteration number: 104 ; MFVB relative error: 0.02044 \n",
      "Iteration number: 105 ; MFVB relative error: 0.01967 \n",
      "Iteration number: 106 ; MFVB relative error: 0.018915 \n",
      "Iteration number: 107 ; MFVB relative error: 0.018175 \n",
      "Iteration number: 108 ; MFVB relative error: 0.01745 \n",
      "Iteration number: 109 ; MFVB relative error: 0.016742 \n",
      "Iteration number: 110 ; MFVB relative error: 0.016052 \n",
      "Iteration number: 111 ; MFVB relative error: 0.015379 \n",
      "Iteration number: 112 ; MFVB relative error: 0.014724 \n",
      "Iteration number: 113 ; MFVB relative error: 0.014088 \n",
      "Iteration number: 114 ; MFVB relative error: 0.01347 \n",
      "Iteration number: 115 ; MFVB relative error: 0.012872 \n",
      "Iteration number: 116 ; MFVB relative error: 0.012293 \n",
      "Iteration number: 117 ; MFVB relative error: 0.011733 \n",
      "Iteration number: 118 ; MFVB relative error: 0.011192 \n",
      "Iteration number: 119 ; MFVB relative error: 0.01067 \n",
      "Iteration number: 120 ; MFVB relative error: 0.010167 \n",
      "Iteration number: 121 ; MFVB relative error: 0.0096835 \n"
     ]
    }
   ],
   "source": [
    "# Mean Field Variational Bayes \n",
    "mfvb_model = single_factor_cfa_mfvb()"
   ]
  },
  {
   "cell_type": "code",
   "execution_count": 23,
   "id": "9c46412b",
   "metadata": {},
   "outputs": [
    {
     "data": {
      "text/plain": [
       "SingleCFAVariationalParameters(nu=MultivariateNormal(loc: torch.Size([3]), covariance_matrix: torch.Size([3, 3])), lam=MultivariateNormal(loc: torch.Size([2]), covariance_matrix: torch.Size([2, 2])), psi=<src.pdfs.InverseGamma object at 0x28f3fd750>, sig2=<src.pdfs.InverseGamma object at 0x28f3fce50>)"
      ]
     },
     "execution_count": 23,
     "metadata": {},
     "output_type": "execute_result"
    }
   ],
   "source": [
    "mfvb_model"
   ]
  },
  {
   "cell_type": "code",
   "execution_count": 24,
   "id": "2ae07264",
   "metadata": {},
   "outputs": [],
   "source": [
    "mfvb_sample = create_sample_from_qvar(mfvb_model)"
   ]
  },
  {
   "cell_type": "code",
   "execution_count": 26,
   "id": "68da86c5",
   "metadata": {},
   "outputs": [
    {
     "data": {
      "text/plain": [
       "nu.1     4.935342\n",
       "nu.2     6.087354\n",
       "nu.3     2.249882\n",
       "lam.1    0.751374\n",
       "lam.2    1.038437\n",
       "psi.1    0.813815\n",
       "psi.2    1.073257\n",
       "psi.3    0.677031\n",
       "sig2     0.560578\n",
       "dtype: float64"
      ]
     },
     "execution_count": 26,
     "metadata": {},
     "output_type": "execute_result"
    }
   ],
   "source": [
    "mfvb_sample.mean()"
   ]
  },
  {
   "cell_type": "code",
   "execution_count": null,
   "id": "23ede909",
   "metadata": {},
   "outputs": [],
   "source": [
    "{'MCMC': mcmc_sample, \n",
    " 'MFVB': mfvb_sample, \n",
    "}"
   ]
  },
  {
   "cell_type": "markdown",
   "id": "742e1bbb",
   "metadata": {},
   "source": [
    "# Optimisation & Parameter Tuning "
   ]
  },
  {
   "cell_type": "markdown",
   "id": "c87ee863",
   "metadata": {},
   "source": [
    "# What is the optimal K? "
   ]
  },
  {
   "cell_type": "code",
   "execution_count": null,
   "id": "c6c05429",
   "metadata": {},
   "outputs": [],
   "source": []
  },
  {
   "cell_type": "markdown",
   "id": "ff80f822",
   "metadata": {},
   "source": [
    "# Note about convergence time "
   ]
  },
  {
   "cell_type": "markdown",
   "id": "7f88dd1e",
   "metadata": {},
   "source": [
    "# Testing Procedure \n"
   ]
  },
  {
   "cell_type": "markdown",
   "id": "c89559a3",
   "metadata": {},
   "source": [
    "# Test 1: Use mock simulated data\n",
    "\n",
    "The most high level test to assess whether our code is working as intended is to simulate some y_data from known distributions and impose degenerate priors."
   ]
  },
  {
   "cell_type": "code",
   "execution_count": 31,
   "id": "4c855b9c",
   "metadata": {},
   "outputs": [],
   "source": [
    "N = 300\n",
    "M = 3\n",
    "\n",
    "#Generate Non-Latent Parameters\n",
    "nu = torch.tensor([5.0, 6.0, 2.25])\n",
    "sig2= torch.tensor(0.565)\n",
    "lam = torch.tensor([0.75, 1.05])\n",
    "psi = torch.tensor([0.8, 1.10, 0.66])\n",
    "\n",
    "#Generate Latent Parameter Values\n",
    "eta = torch.randn(N)*torch.sqrt(sig2)\n",
    "\n",
    "lam_1_fixed = torch.tensor([1.0])\n",
    "lam_full = torch.cat((lam_1_fixed, lam))\n",
    "\n",
    "#Generate y values based on User Input\n",
    "# yi ~ id Normal(nu + eta_i * lam, diag(psi)), yi /in R^m\n",
    "#cov:\n",
    "like_dist_cov = torch.diag(psi) #m*m tensor \n",
    "#means: want a n*m vector of means\n",
    "like_dist_means = torch.matmul(eta.unsqueeze(1), lam_full.unsqueeze(0)) + nu\n",
    "\n",
    "y_data_sim = mvn(like_dist_means, covariance_matrix= like_dist_cov).rsample(torch.tensor([10])) "
   ]
  },
  {
   "cell_type": "code",
   "execution_count": null,
   "id": "aa47d7ce",
   "metadata": {},
   "outputs": [],
   "source": [
    "degenerate_priors = {\n",
    "    \n",
    "}"
   ]
  },
  {
   "cell_type": "code",
   "execution_count": null,
   "id": "6656277a",
   "metadata": {},
   "outputs": [],
   "source": [
    "simulated_cfa_model = SingleFactorCFA(y_data = y_data_sim, hyper_params=hyper_params)"
   ]
  },
  {
   "cell_type": "code",
   "execution_count": 15,
   "id": "67f0694c",
   "metadata": {},
   "outputs": [],
   "source": [
    "simulated_vi_model = SemVIModel(model = simulated_cfa_model, qvar = SingleCFAVariationalFamily(m = M, n = N))"
   ]
  },
  {
   "cell_type": "code",
   "execution_count": 21,
   "id": "37d85ea0",
   "metadata": {},
   "outputs": [],
   "source": [
    "VI_OPTIMISATION_PARAMETERS = VIOptimisationParameters(num_iterations = 20000, relative_error_threshold= 10e-4, patience = 100)"
   ]
  },
  {
   "cell_type": "code",
   "execution_count": 22,
   "id": "abefc801",
   "metadata": {},
   "outputs": [
    {
     "name": "stderr",
     "output_type": "stream",
     "text": [
      " 32%|███▏      | 6487/20000 [04:51<10:07, 22.25it/s]"
     ]
    },
    {
     "name": "stdout",
     "output_type": "stream",
     "text": [
      "VI converged at step t =  6487\n"
     ]
    },
    {
     "name": "stderr",
     "output_type": "stream",
     "text": [
      "\n"
     ]
    }
   ],
   "source": [
    "simulated_vi_model.optimize(optimisation_parameters = VI_OPTIMISATION_PARAMETERS, K = 10, alpha = 1, filename = 'tensorboard_runs/simulatedVIModel')"
   ]
  },
  {
   "cell_type": "code",
   "execution_count": 23,
   "id": "b8a6239f",
   "metadata": {},
   "outputs": [
    {
     "data": {
      "text/plain": [
       "Reusing TensorBoard on port 6006 (pid 53556), started 0:06:56 ago. (Use '!kill 53556' to kill it.)"
      ]
     },
     "metadata": {},
     "output_type": "display_data"
    },
    {
     "data": {
      "text/html": [
       "\n",
       "      <iframe id=\"tensorboard-frame-8de04a9e5640230e\" width=\"100%\" height=\"800\" frameborder=\"0\">\n",
       "      </iframe>\n",
       "      <script>\n",
       "        (function() {\n",
       "          const frame = document.getElementById(\"tensorboard-frame-8de04a9e5640230e\");\n",
       "          const url = new URL(\"http://localhost\");\n",
       "          const port = 6006;\n",
       "          if (port) {\n",
       "            url.port = port;\n",
       "          }\n",
       "          frame.src = url;\n",
       "        })();\n",
       "      </script>\n",
       "    "
      ],
      "text/plain": [
       "<IPython.core.display.HTML object>"
      ]
     },
     "metadata": {},
     "output_type": "display_data"
    }
   ],
   "source": [
    "%reload_ext tensorboard\n",
    "%tensorboard --logdir tensorboard_runs/simulatedVIModel_K_10_alpha1/"
   ]
  },
  {
   "cell_type": "code",
   "execution_count": 25,
   "id": "46259649",
   "metadata": {},
   "outputs": [
    {
     "data": {
      "text/plain": [
       "0.5631233595800524"
      ]
     },
     "execution_count": 25,
     "metadata": {},
     "output_type": "execute_result"
    }
   ],
   "source": [
    "(85.82)/(152.4)"
   ]
  },
  {
   "cell_type": "code",
   "execution_count": 27,
   "id": "fc250c8d",
   "metadata": {},
   "outputs": [
    {
     "data": {
      "text/plain": [
       "0.8020609318996416"
      ]
     },
     "execution_count": 27,
     "metadata": {},
     "output_type": "execute_result"
    }
   ],
   "source": [
    "895.1/(1116)"
   ]
  },
  {
   "cell_type": "code",
   "execution_count": 29,
   "id": "7dcbdae2",
   "metadata": {},
   "outputs": [
    {
     "data": {
      "text/plain": [
       "1.074243813015582"
      ]
     },
     "execution_count": 29,
     "metadata": {},
     "output_type": "execute_result"
    }
   ],
   "source": [
    "(1172)/(1091)"
   ]
  },
  {
   "cell_type": "code",
   "execution_count": 30,
   "id": "56e66068",
   "metadata": {},
   "outputs": [
    {
     "data": {
      "text/plain": [
       "0.6767460969597371"
      ]
     },
     "execution_count": 30,
     "metadata": {},
     "output_type": "execute_result"
    }
   ],
   "source": [
    "823.6/1217"
   ]
  },
  {
   "cell_type": "code",
   "execution_count": 32,
   "id": "98046038",
   "metadata": {},
   "outputs": [],
   "source": [
    "qvar = SingleCFAVariationalFamily(m = M, n = N)"
   ]
  }
 ],
 "metadata": {
  "kernelspec": {
   "display_name": "single-cfa-venv-3.10",
   "language": "python",
   "name": "python3"
  },
  "language_info": {
   "codemirror_mode": {
    "name": "ipython",
    "version": 3
   },
   "file_extension": ".py",
   "mimetype": "text/x-python",
   "name": "python",
   "nbconvert_exporter": "python",
   "pygments_lexer": "ipython3",
   "version": "3.10.2"
  }
 },
 "nbformat": 4,
 "nbformat_minor": 5
}
