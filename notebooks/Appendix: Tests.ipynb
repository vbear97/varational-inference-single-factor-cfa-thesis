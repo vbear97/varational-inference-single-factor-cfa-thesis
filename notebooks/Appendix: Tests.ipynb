{
 "cells": [
  {
   "cell_type": "markdown",
   "id": "8e9dd0a9",
   "metadata": {},
   "source": [
    "# Appendix: Testing our Implementation \n",
    "\n",
    "This notebook walks through how to test our overall VI implementation through statistical simulations and problem simplifications. It is intended as a complement to automated unit tests, which test component-wide analysis."
   ]
  },
  {
   "cell_type": "code",
   "execution_count": 9,
   "id": "f2339a62",
   "metadata": {},
   "outputs": [
    {
     "name": "stdout",
     "output_type": "stream",
     "text": [
      "The autoreload extension is already loaded. To reload it, use:\n",
      "  %reload_ext autoreload\n"
     ]
    }
   ],
   "source": [
    "# Imports \n",
    "%load_ext autoreload\n",
    "%autoreload 2\n",
    "\n",
    "import torch\n",
    "\n",
    "import sys \n",
    "sys.path.append('..')\n",
    "from src.statistical_model import SingleFactorCFA\n",
    "from src.variational_family import SingleCFAVariationalFamily\n",
    "from src.variational_sem import VIOptimisationParameters, SingleCFAVIModel\n",
    "from src.analytical_variational_inference.analytical_variational_infernce import single_factor_cfa_mfvb\n",
    "from src.analysis.sampling import create_sample_from_qvar, SingleCFAVariationalParameters\n",
    "from src.mcmc.mcmc import single_factor_cfa_mcmc\n",
    "from torch.distributions import MultivariateNormal as mvn\n"
   ]
  },
  {
   "cell_type": "markdown",
   "id": "fb81a61f",
   "metadata": {},
   "source": [
    "# Testing Framework \n",
    "\n",
    "In general, any implementation of the VI algorithm should be debugged in two steps: \n",
    "\n",
    "* **Predictable Input and Output** It produces the correct answer to a known input and a known output.\n",
    "* **Convergence for Non-Latent Parameter Values** The algorithm has properly converged: both its loss functions and individual parameter values. \n",
    "* **Spot-check for eta parameter values** Eta parameter values have also converged "
   ]
  },
  {
   "cell_type": "code",
   "execution_count": 10,
   "id": "c08d9c3b",
   "metadata": {},
   "outputs": [
    {
     "data": {
      "text/plain": [
       "<torch._C.Generator at 0x122374c50>"
      ]
     },
     "execution_count": 10,
     "metadata": {},
     "output_type": "execute_result"
    }
   ],
   "source": [
    "# Set seed for reproducibility \n",
    "torch.manual_seed(42)"
   ]
  },
  {
   "cell_type": "code",
   "execution_count": 11,
   "id": "5ff99c9e",
   "metadata": {},
   "outputs": [],
   "source": [
    "# Simulated Data\n",
    "\n",
    "N = 300 \n",
    "M = 3 \n",
    "nu = torch.tensor([5.0, 6.0, 2.25])\n",
    "sig2 = torch.tensor([0.565])\n",
    "lam = torch.tensor([0.75, 1.05])\n",
    "psi = torch.tensor([0.8, 1.10, 0.66])\n",
    "\n",
    "#Generate Latent Parameter Values \n",
    "eta = torch.randn(N)*torch.sqrt(sig2)\n",
    "\n",
    "#Concatenate lambda values \n",
    "lam1_fixed = torch.tensor([1.0])\n",
    "lam_full = torch.cat((lam1_fixed, lam))\n",
    "\n",
    "#Generate y values based on User Input\n",
    "# yi ~ id Normal(nu + eta_i * lam, diag(psi)), yi /in R^m\n",
    "#cov:\n",
    "like_dist_cov = torch.diag(psi) #m*m tensor \n",
    "#means: want a n*m vector of means\n",
    "like_dist_means = torch.matmul(eta.unsqueeze(1), lam_full.unsqueeze(0)) + nu\n",
    "\n",
    "y_data_sim = mvn(like_dist_means, covariance_matrix= like_dist_cov).rsample() "
   ]
  },
  {
   "cell_type": "code",
   "execution_count": 12,
   "id": "9efd8115",
   "metadata": {},
   "outputs": [],
   "source": [
    "#Hyper-parameter values\n",
    "\n",
    "#sig_2 ~ InvGamma\n",
    "sig2_shape = torch.tensor([0.5])  \n",
    "sig2_rate = torch.tensor([0.5])  \n",
    "\n",
    "#psi ~ iid Inv Gamma for j = 1..m \n",
    "psi_shape = torch.tensor([0.5])  \n",
    "psi_rate = torch.tensor([0.005])  \n",
    "\n",
    "#nu ~ iid Normal for j = 1...m\n",
    "nu_sig2 = torch.tensor([100.0])  \n",
    "nu_mean = torch.tensor([0.0])\n",
    "\n",
    "#lam_j | psi_j ~ id Normal(mu, sig2*psi_j)\n",
    "lam_mean = torch.tensor([0.0])\n",
    "lam_sig2 = torch.tensor([1.0])\n",
    "\n",
    "hyper_params = {\"sig2_shape\": sig2_shape, \"sig2_rate\": sig2_rate, \"psi_shape\": psi_shape, \"psi_rate\": psi_rate, \"nu_sig2\": nu_sig2, \"nu_mean\": nu_mean, \"lam_mean\": lam_mean, \"lam_sig2\": lam_sig2}"
   ]
  },
  {
   "cell_type": "markdown",
   "id": "bdad80f2",
   "metadata": {},
   "source": [
    "# Part 1 - Single Component Tests"
   ]
  },
  {
   "cell_type": "code",
   "execution_count": 25,
   "id": "2273e056",
   "metadata": {},
   "outputs": [],
   "source": [
    "VI_OPTIMISATION_PARAMETERS = VIOptimisationParameters(num_iterations = 20_000, relative_error_threshold= 10e-4, patience = 100)"
   ]
  },
  {
   "cell_type": "markdown",
   "id": "ab9f71c6",
   "metadata": {},
   "source": [
    "## Part 2: Estimate all variables "
   ]
  },
  {
   "cell_type": "code",
   "execution_count": 26,
   "id": "c69e3b5b",
   "metadata": {},
   "outputs": [],
   "source": [
    "degenerates = {}\n",
    "model = SingleCFAVIModel(y_data = y_data_sim, hyper_params= hyper_params, degenerates = degenerates)"
   ]
  },
  {
   "cell_type": "code",
   "execution_count": 27,
   "id": "4773e2b9",
   "metadata": {},
   "outputs": [
    {
     "name": "stderr",
     "output_type": "stream",
     "text": [
      " 39%|███▉      | 7766/20000 [04:09<06:33, 31.07it/s]"
     ]
    },
    {
     "name": "stdout",
     "output_type": "stream",
     "text": [
      "VI converged at step t =  7766\n"
     ]
    },
    {
     "name": "stderr",
     "output_type": "stream",
     "text": [
      "\n"
     ]
    }
   ],
   "source": [
    "model.optimize(optimisation_parameters= VI_OPTIMISATION_PARAMETERS, filename = 'tensorboard_runs/simulated_VIModel_test', K = 10, alpha =1)"
   ]
  },
  {
   "cell_type": "code",
   "execution_count": null,
   "id": "42038479",
   "metadata": {},
   "outputs": [],
   "source": [
    "relative_errors = [error.item() for error in model.results.convergence_data.relative_errors]"
   ]
  },
  {
   "cell_type": "code",
   "execution_count": 39,
   "id": "9ba3120f",
   "metadata": {},
   "outputs": [
    {
     "ename": "NameError",
     "evalue": "name 'plot' is not defined",
     "output_type": "error",
     "traceback": [
      "\u001b[0;31m---------------------------------------------------------------------------\u001b[0m",
      "\u001b[0;31mNameError\u001b[0m                                 Traceback (most recent call last)",
      "Cell \u001b[0;32mIn[39], line 1\u001b[0m\n\u001b[0;32m----> 1\u001b[0m \u001b[43mplot\u001b[49m(relative_errors)\n",
      "\u001b[0;31mNameError\u001b[0m: name 'plot' is not defined"
     ]
    }
   ],
   "source": [
    "plot(relative_errors)"
   ]
  },
  {
   "cell_type": "code",
   "execution_count": 29,
   "id": "69294b56",
   "metadata": {},
   "outputs": [
    {
     "data": {
      "text/plain": [
       "Reusing TensorBoard on port 6006 (pid 4283), started 0:16:22 ago. (Use '!kill 4283' to kill it.)"
      ]
     },
     "metadata": {},
     "output_type": "display_data"
    },
    {
     "data": {
      "text/html": [
       "\n",
       "      <iframe id=\"tensorboard-frame-760c16fa97dc9033\" width=\"100%\" height=\"800\" frameborder=\"0\">\n",
       "      </iframe>\n",
       "      <script>\n",
       "        (function() {\n",
       "          const frame = document.getElementById(\"tensorboard-frame-760c16fa97dc9033\");\n",
       "          const url = new URL(\"http://localhost\");\n",
       "          const port = 6006;\n",
       "          if (port) {\n",
       "            url.port = port;\n",
       "          }\n",
       "          frame.src = url;\n",
       "        })();\n",
       "      </script>\n",
       "    "
      ],
      "text/plain": [
       "<IPython.core.display.HTML object>"
      ]
     },
     "metadata": {},
     "output_type": "display_data"
    }
   ],
   "source": [
    "%reload_ext tensorboard\n",
    "%tensorboard --logdir tensorboard_runs/simulated_VIModel_test_K_10_alpha1/"
   ]
  },
  {
   "cell_type": "markdown",
   "id": "f56ec859",
   "metadata": {},
   "source": [
    "## Estimate all parameters "
   ]
  },
  {
   "cell_type": "code",
   "execution_count": null,
   "id": "611b1538",
   "metadata": {},
   "outputs": [],
   "source": []
  }
 ],
 "metadata": {
  "kernelspec": {
   "display_name": "single-cfa-venv-3.10",
   "language": "python",
   "name": "python3"
  },
  "language_info": {
   "codemirror_mode": {
    "name": "ipython",
    "version": 3
   },
   "file_extension": ".py",
   "mimetype": "text/x-python",
   "name": "python",
   "nbconvert_exporter": "python",
   "pygments_lexer": "ipython3",
   "version": "3.10.2"
  }
 },
 "nbformat": 4,
 "nbformat_minor": 5
}
